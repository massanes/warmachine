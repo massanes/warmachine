{
 "cells": [
  {
   "cell_type": "code",
   "execution_count": null,
   "metadata": {
    "collapsed": true
   },
   "outputs": [],
   "source": [
    "import numpy as np\n",
    "import matplotlib.pyplot as plt\n",
    "\n",
    "def expected_roll ( number_of_dice ):\n",
    "    \"\"\"\n",
    "     This function computes probability of each possible \n",
    "     outcome when rolling n dice.\n",
    "    \n",
    "     by: Francesc Massanes, June 2015\n",
    "    \"\"\"\n",
    "    \n",
    "    pr   = np.ones(6) / 6.0\n",
    "    prob = pr\n",
    "\n",
    "    for dice in range(2, number_of_dice + 1):\n",
    "        prob = np.convolve(prob, pr)\n",
    "\n",
    "    roll = np.arange(number_of_dice, number_of_dice * 6 + 1)\n",
    "\n",
    "    return roll, prob\n",
    "\n",
    "def roll_at_least( target, number_of_dice ):\n",
    "    roll, prob = expected_roll ( number_of_dice );\n",
    " \n",
    "    return np.sum( prob[roll>=target] );"
   ]
  },
  {
   "cell_type": "code",
   "execution_count": null,
   "metadata": {
    "collapsed": false
   },
   "outputs": [],
   "source": [
    "def survive_options ( name, defense, armor, boxes, focus, hunters = 9 ):\n",
    "    POW = 6;\n",
    "    RAT = 7;\n",
    "    armor = np.ceil(armor/2)\n",
    "    hitting = roll_at_least( defense-RAT, 3 );\n",
    "    \n",
    "    roll, prob = expected_roll( 2 );\n",
    "    dice = -( armor - ( POW + roll ));\n",
    "\n",
    "    D = {};\n",
    "    for i in range(dice.shape[0]):\n",
    "        D[dice[i]] = hitting*prob[i];\n",
    "\n",
    "    C = { 0: 1 };\n",
    "    for r in np.arange(0,hunters):\n",
    "        tmp = {}\n",
    "        for dmg_1 in C.keys():\n",
    "            for dmg_2 in D.keys():\n",
    "                if r < focus:\n",
    "                    tmp[ dmg_1+dmg_2-5 ] = tmp.get( dmg_1+dmg_2-5, 0.0 ) +  C[dmg_1] * D[dmg_2]\n",
    "                else:\n",
    "                    tmp[ dmg_1+dmg_2 ] = tmp.get( dmg_1+dmg_2, 0.0 ) +  C[dmg_1] * D[dmg_2]\n",
    "        C = tmp;\n",
    "\n",
    "    odds = 0;\n",
    "    for damage in C.keys():\n",
    "        if damage >= boxes:\n",
    "            odds += C[damage];\n",
    "            \n",
    "    print 'The odds of %s surviving are %.2f%%, so he/she is dead in %.2f%%' % (name, (1-odds) * 100, odds * 100 )"
   ]
  },
  {
   "cell_type": "code",
   "execution_count": null,
   "metadata": {
    "collapsed": false
   },
   "outputs": [],
   "source": [
    "survive_options ( 'Kozlov', defense=15, armor=17, boxes=17, focus=6)\n",
    "survive_options ( 'Karchev', defense=12, armor=19, boxes=34, focus=6)\n",
    "survive_options ( 'Deneghra 1', defense=16, armor=14, boxes=16, focus=7)\n"
   ]
  }
 ],
 "metadata": {
  "kernelspec": {
   "display_name": "Python 2",
   "language": "python",
   "name": "python2"
  },
  "language_info": {
   "codemirror_mode": {
    "name": "ipython",
    "version": 2
   },
   "file_extension": ".py",
   "mimetype": "text/x-python",
   "name": "python",
   "nbconvert_exporter": "python",
   "pygments_lexer": "ipython2",
   "version": "2.7.10"
  }
 },
 "nbformat": 4,
 "nbformat_minor": 0
}
