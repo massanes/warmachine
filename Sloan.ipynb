{
 "cells": [
  {
   "cell_type": "code",
   "execution_count": 1,
   "metadata": {
    "collapsed": false
   },
   "outputs": [],
   "source": [
    "import numpy as np\n",
    "import matplotlib.pyplot as plt\n",
    "\n",
    "def expected_roll ( number_of_dice ):\n",
    "    \"\"\"\n",
    "     This function computes probability of each possible \n",
    "     outcome when rolling n dice.\n",
    "    \n",
    "     by: Francesc Massanes, June 2015\n",
    "    \"\"\"\n",
    "    \n",
    "    pr   = np.ones(6) / 6.0\n",
    "    prob = pr\n",
    "\n",
    "    for dice in range(2, number_of_dice + 1):\n",
    "        prob = np.convolve(prob, pr)\n",
    "\n",
    "    roll = np.arange(number_of_dice, number_of_dice * 6 + 1)\n",
    "\n",
    "    return roll, prob\n",
    "\n",
    "def roll_at_least( target, number_of_dice ):\n",
    "    roll, prob = expected_roll ( number_of_dice );\n",
    " \n",
    "    return np.sum( prob[roll>=target] );"
   ]
  },
  {
   "cell_type": "code",
   "execution_count": 2,
   "metadata": {
    "collapsed": true
   },
   "outputs": [],
   "source": [
    "def survive_options ( name, defense, armor, boxes, focus, hunters = 9 ):\n",
    "    POW = 6;\n",
    "    RAT = 7;\n",
    "    armor = np.ceil(armor/2)\n",
    "    hitting = roll_at_least( defense-(RAT+2), 3 );\n",
    "    \n",
    "    dice, prob = expected_roll( 2 );\n",
    "    dice = -( armor - ( POW + dice ));\n",
    "\n",
    "    D = {};\n",
    "    for roll in range(dice.shape[0]):\n",
    "        D[dice[roll]] = hitting * prob[roll];\n",
    "\n",
    "    cumulative = { 0: 1 };\n",
    "    \n",
    "    for attacks in np.arange(0,hunters):\n",
    "        tmp = {}\n",
    "        for d1 in cumulative.keys():\n",
    "            for d2 in D.keys():\n",
    "                d = d1 + d2;\n",
    "                if attacks < focus:\n",
    "                    d -= 5;\n",
    "                tmp[ d ] = tmp.get( d, 0.0 ) +  cumulative[d1] * D[d2]\n",
    "        cumulative = tmp;\n",
    "\n",
    "    odds = 0;\n",
    "    for damage in cumulative.keys():\n",
    "        if damage >= boxes:\n",
    "            odds += cumulative[damage];\n",
    "            \n",
    "    print 'The odds of %s surviving are %.2f%%, so he/she is dead in %.2f%%' % (name, (1-odds) * 100, odds * 100 )"
   ]
  },
  {
   "cell_type": "code",
   "execution_count": 3,
   "metadata": {
    "collapsed": false
   },
   "outputs": [
    {
     "name": "stdout",
     "output_type": "stream",
     "text": [
      "The odds of Kozlov surviving are 72.67%, so he/she is dead in 27.33%\n",
      "The odds of Karchev surviving are 100.00%, so he/she is dead in 0.00%\n",
      "The odds of Deneghra 1 surviving are 71.46%, so he/she is dead in 28.54%\n"
     ]
    }
   ],
   "source": [
    "survive_options ( 'Kozlov', defense=15, armor=17, boxes=17, focus=6)\n",
    "survive_options ( 'Karchev', defense=12, armor=19, boxes=34, focus=6)\n",
    "survive_options ( 'Deneghra 1', defense=16, armor=14, boxes=16, focus=7)"
   ]
  }
 ],
 "metadata": {
  "kernelspec": {
   "display_name": "Python 2",
   "language": "python",
   "name": "python2"
  },
  "language_info": {
   "codemirror_mode": {
    "name": "ipython",
    "version": 2
   },
   "file_extension": ".py",
   "mimetype": "text/x-python",
   "name": "python",
   "nbconvert_exporter": "python",
   "pygments_lexer": "ipython2",
   "version": "2.7.10"
  }
 },
 "nbformat": 4,
 "nbformat_minor": 0
}
